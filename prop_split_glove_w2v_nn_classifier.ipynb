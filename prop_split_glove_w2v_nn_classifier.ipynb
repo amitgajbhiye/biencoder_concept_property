{
 "cells": [
  {
   "cell_type": "code",
   "execution_count": 1,
   "id": "50fb0e9a-8e6c-4994-812c-2e313de66ab7",
   "metadata": {},
   "outputs": [],
   "source": [
    "import numpy as np\n",
    "import pandas as pd\n",
    "import os\n",
    "import re\n",
    "\n",
    "import torch\n",
    "import nltk\n",
    "import pickle\n",
    "\n",
    "from sklearn.neighbors import NearestNeighbors\n",
    "from collections import Counter\n",
    "\n",
    "from gensim.models import KeyedVectors\n",
    "# import gensim.downloader\n",
    "\n",
    "from utils.functions import compute_scores"
   ]
  },
  {
   "cell_type": "code",
   "execution_count": 2,
   "id": "115baef7-b646-409d-89c7-430ff3333c3b",
   "metadata": {},
   "outputs": [
    {
     "name": "stdout",
     "output_type": "stream",
     "text": [
      "Working with ** skip-gram ** vectors...\n"
     ]
    }
   ],
   "source": [
    "model_class = \"skip-gram\"\n",
    "num_nearest_neighbours = 3\n",
    "\n",
    "if model_class == \"skip-gram\":\n",
    "    model = KeyedVectors.load(\"/home/amitgajbhiye/cardiff_work/word2vec-word2vec-google-news-300/w2v_google_news_300\")\n",
    "elif model_class == \"glove\":\n",
    "    model = KeyedVectors.load(\"/home/amitgajbhiye/cardiff_work/glove_word_vectors/glove-wiki-gigaword-300\")\n",
    "    \n",
    "print (f\"Working with ** {model_class} ** vectors...\")"
   ]
  },
  {
   "cell_type": "code",
   "execution_count": 3,
   "id": "a1059b70-0137-45c5-972b-2936f5774936",
   "metadata": {},
   "outputs": [
    {
     "name": "stdout",
     "output_type": "stream",
     "text": [
      "McRae Train Df size :  (19258, 3)\n",
      "      concept          property  label\n",
      "0      wrench           squishy      0\n",
      "1  teddy_bear           fragile      0\n",
      "2  microscope  used by children      1\n",
      "3      shovel  used for killing      0\n",
      "4        wall    found on walls      1\n",
      "\n",
      "McRae Test Df size :  (4813, 3)\n",
      "         concept          property  label\n",
      "0         onions    used for music      0\n",
      "1          pizza             shiny      0\n",
      "2     motorcycle   eaten in summer      0\n",
      "3       sailboat              cold      0\n",
      "4           lime      worn on feet      0\n",
      "...          ...               ...    ...\n",
      "4808   snowboard              tall      0\n",
      "4809        veil           squishy      0\n",
      "4810    sailboat      light weight      0\n",
      "4811  skateboard  used for cooking      0\n",
      "4812    mandarin             a toy      0\n",
      "\n",
      "[4813 rows x 3 columns]\n"
     ]
    }
   ],
   "source": [
    "mcrae_train_df = pd.read_csv(\"data/evaluation_data/extended_mcrae/train_mcrae.tsv\", sep=\"\\t\", names=[\"concept\", \"property\", \"label\"])\n",
    "mcrae_test_df = pd.read_csv(\"data/evaluation_data/extended_mcrae/test_mcrae.tsv\", sep=\"\\t\", names=[\"concept\", \"property\", \"label\"])\n",
    "\n",
    "print (\"McRae Train Df size : \", mcrae_train_df.shape)\n",
    "print (mcrae_train_df.head())\n",
    "\n",
    "print ()\n",
    "\n",
    "print (\"McRae Test Df size : \", mcrae_test_df.shape)\n",
    "print (mcrae_test_df)\n"
   ]
  },
  {
   "cell_type": "code",
   "execution_count": 4,
   "id": "9a20d3ed-48b2-4b86-943a-514ea2df739a",
   "metadata": {},
   "outputs": [],
   "source": [
    "def create_word_2_vector_dict(df_series):\n",
    "    \n",
    "    name_2_vector = {}\n",
    "\n",
    "    for name in df_series.unique():\n",
    "        splited_name = re.split('\\s|_', name.strip())\n",
    "        l = []\n",
    "        for word in splited_name:\n",
    "            try :\n",
    "                l.append(model[word])\n",
    "            except KeyError:\n",
    "                print (f\"{word} not found in {model_class}... initialsing with zeros\")\n",
    "                l.append(np.zeros(300,))\n",
    "        \n",
    "        avg = np.average(l, axis=0) # avergaing the vectors of the words in the name\n",
    "        avg = avg / np.linalg.norm(avg) # normalising the vector \n",
    "        \n",
    "        name_2_vector[name] = np.average(l, axis=0) \n",
    "    \n",
    "    return name_2_vector\n",
    "\n"
   ]
  },
  {
   "cell_type": "code",
   "execution_count": 5,
   "id": "719b8142-15eb-4852-a63f-ea8b08ece9ae",
   "metadata": {},
   "outputs": [
    {
     "name": "stdout",
     "output_type": "stream",
     "text": [
      "(24071, 3)\n"
     ]
    },
    {
     "data": {
      "text/html": [
       "<div>\n",
       "<style scoped>\n",
       "    .dataframe tbody tr th:only-of-type {\n",
       "        vertical-align: middle;\n",
       "    }\n",
       "\n",
       "    .dataframe tbody tr th {\n",
       "        vertical-align: top;\n",
       "    }\n",
       "\n",
       "    .dataframe thead th {\n",
       "        text-align: right;\n",
       "    }\n",
       "</style>\n",
       "<table border=\"1\" class=\"dataframe\">\n",
       "  <thead>\n",
       "    <tr style=\"text-align: right;\">\n",
       "      <th></th>\n",
       "      <th>concept</th>\n",
       "      <th>property</th>\n",
       "      <th>label</th>\n",
       "    </tr>\n",
       "  </thead>\n",
       "  <tbody>\n",
       "    <tr>\n",
       "      <th>0</th>\n",
       "      <td>wrench</td>\n",
       "      <td>squishy</td>\n",
       "      <td>0</td>\n",
       "    </tr>\n",
       "    <tr>\n",
       "      <th>1</th>\n",
       "      <td>teddy_bear</td>\n",
       "      <td>fragile</td>\n",
       "      <td>0</td>\n",
       "    </tr>\n",
       "    <tr>\n",
       "      <th>2</th>\n",
       "      <td>microscope</td>\n",
       "      <td>used by children</td>\n",
       "      <td>1</td>\n",
       "    </tr>\n",
       "    <tr>\n",
       "      <th>3</th>\n",
       "      <td>shovel</td>\n",
       "      <td>used for killing</td>\n",
       "      <td>0</td>\n",
       "    </tr>\n",
       "    <tr>\n",
       "      <th>4</th>\n",
       "      <td>wall</td>\n",
       "      <td>found on walls</td>\n",
       "      <td>1</td>\n",
       "    </tr>\n",
       "  </tbody>\n",
       "</table>\n",
       "</div>"
      ],
      "text/plain": [
       "      concept          property  label\n",
       "0      wrench           squishy      0\n",
       "1  teddy_bear           fragile      0\n",
       "2  microscope  used by children      1\n",
       "3      shovel  used for killing      0\n",
       "4        wall    found on walls      1"
      ]
     },
     "execution_count": 5,
     "metadata": {},
     "output_type": "execute_result"
    }
   ],
   "source": [
    "train_test_df = pd.concat([mcrae_train_df, mcrae_test_df])\n",
    "\n",
    "print (train_test_df.shape)\n",
    "train_test_df.head()"
   ]
  },
  {
   "cell_type": "code",
   "execution_count": 6,
   "id": "ee114832-c632-458b-b3c4-6c3e6166e003",
   "metadata": {},
   "outputs": [
    {
     "name": "stdout",
     "output_type": "stream",
     "text": [
      "axe not found in skip-gram... initialsing with zeros\n",
      "armour not found in skip-gram... initialsing with zeros\n"
     ]
    },
    {
     "name": "stderr",
     "output_type": "stream",
     "text": [
      "/tmp/ipykernel_3537024/2145674214.py:16: RuntimeWarning: invalid value encountered in true_divide\n",
      "  avg = avg / np.linalg.norm(avg) # normalising the vector\n"
     ]
    }
   ],
   "source": [
    "con2vec = create_word_2_vector_dict(train_test_df[\"concept\"])"
   ]
  },
  {
   "cell_type": "code",
   "execution_count": 7,
   "id": "87dcc6ff-bde2-4315-aeef-019326a2c121",
   "metadata": {},
   "outputs": [
    {
     "name": "stdout",
     "output_type": "stream",
     "text": [
      "a not found in skip-gram... initialsing with zeros\n",
      "a not found in skip-gram... initialsing with zeros\n"
     ]
    }
   ],
   "source": [
    "prop2vec = create_word_2_vector_dict(train_test_df[\"property\"])"
   ]
  },
  {
   "cell_type": "code",
   "execution_count": 8,
   "id": "0ed5ae9d-151a-4f05-b1ca-f2474ec9459a",
   "metadata": {},
   "outputs": [
    {
     "name": "stdout",
     "output_type": "stream",
     "text": [
      "514\n"
     ]
    }
   ],
   "source": [
    "print (len(con2vec.keys()))\n",
    "# print (con2vec.keys())"
   ]
  },
  {
   "cell_type": "code",
   "execution_count": 9,
   "id": "1b9e7fc5-dce9-427d-be39-ed0cdeac06be",
   "metadata": {},
   "outputs": [
    {
     "name": "stdout",
     "output_type": "stream",
     "text": [
      "50\n"
     ]
    }
   ],
   "source": [
    "print (len(prop2vec.keys()))\n",
    "# print (prop2vec.keys())"
   ]
  },
  {
   "cell_type": "code",
   "execution_count": null,
   "id": "6601acaf-a443-4f4a-b0bd-63f05cca3932",
   "metadata": {},
   "outputs": [],
   "source": []
  },
  {
   "cell_type": "code",
   "execution_count": 10,
   "id": "914b64a7-2422-4304-9f43-40d5e7a0cfe1",
   "metadata": {},
   "outputs": [],
   "source": [
    "def predict_label(train_props_similar_to_test, train_df, test_df):\n",
    "\n",
    "    preds = []\n",
    "\n",
    "    for index, row in test_df.iterrows():\n",
    "        \n",
    "        # print ()\n",
    "        # print (\"Index :\", index)\n",
    "        test_con, test_prop, test_label = row[\"concept\"], row[\"property\"], row[\"label\"]\n",
    "        \n",
    "        train_similar_props = train_props_similar_to_test.get(test_prop)\n",
    "        \n",
    "        assert train_similar_props is not None, \"No Train Similar Properties for the Test Property\"\n",
    "\n",
    "#         print (\"Test Data :\", index, test_con, test_prop, test_label)\n",
    "        \n",
    "#         print (\"Properties Similar to test property in Train File\")\n",
    "#         print (train_similar_props)\n",
    "\n",
    "        positive_con = []\n",
    "\n",
    "        for train_prop in train_similar_props:\n",
    "            \n",
    "            positive_concept = train_df.loc[(train_df[\"property\"] == train_prop) & (train_df[\"label\"] == 1)][\"concept\"].tolist()\n",
    "            positive_con.extend(positive_concept)\n",
    "            \n",
    "            # print (f\"Positive Concept for the similar property: {train_prop}\")\n",
    "            # print (positive_concept)\n",
    "            \n",
    "        # print (\"All positive Concepts\")\n",
    "        # print (positive_con)\n",
    "\n",
    "        con_dict  = dict(Counter(positive_con))\n",
    "        max_con_count = max(con_dict.values())\n",
    "\n",
    "        # print (con_dict)\n",
    "        # print (max_con_count)\n",
    "\n",
    "        con_with_max_count = [] \n",
    "        \n",
    "        for con, count in con_dict.items():\n",
    "            if count == max_con_count:\n",
    "                con_with_max_count.append(con)\n",
    "\n",
    "        \n",
    "#         print (\"con_with_max_count :\", con_with_max_count)\n",
    "\n",
    "#         print (\"Test Con :\", test_con)\n",
    "#         print (\"con_with_max_count :\", con_with_max_count)\n",
    "#         print (\"test_con in con_with_max_count :\", test_con in con_with_max_count)\n",
    "\n",
    "        if test_con in con_with_max_count:\n",
    "            test_pred = 1\n",
    "        else:\n",
    "            test_pred = 0\n",
    "\n",
    "        preds.append(test_pred)\n",
    "        \n",
    "        # print (\"test_pred :\", test_pred)\n",
    "        # print()\n",
    "    \n",
    "    print (f\"All Preds for fold : {len(preds)}\")\n",
    "    # print (f\"All Preds for fold : {preds}\")\n",
    "    return preds\n"
   ]
  },
  {
   "cell_type": "code",
   "execution_count": 11,
   "id": "816499b1-1c58-43a4-96c4-2bbdc99365df",
   "metadata": {
    "tags": []
   },
   "outputs": [
    {
     "name": "stdout",
     "output_type": "stream",
     "text": [
      "For Fold 0\n",
      "/home/amitgajbhiye/cardiff_work/dot_product_model_nn_analysis/mcrae_train_test_embeddings/mcrae_prop_split_train_test_files/0_train_prop_split_con_prop.pkl\n",
      "/home/amitgajbhiye/cardiff_work/dot_product_model_nn_analysis/mcrae_train_test_embeddings/mcrae_prop_split_train_test_files/0_test_prop_split_con_prop.pkl\n",
      "\n",
      "Train Df shape : (19273, 3), Index(['concept', 'property', 'label'], dtype='object')\n",
      "Test Df shape : (4798, 3), Index(['concept', 'property', 'label'], dtype='object')\n",
      "num train concept : 514\n",
      "vector train concept : 514\n",
      "num train property : 40\n",
      "vector train property : 40\n",
      "num test concept : 514\n",
      "vector test concept : 514\n",
      "num test property : 10\n",
      "vector test property : 10\n",
      "\n",
      "#Unique Train Concepts : 514\n",
      "#Unique Train Property : 40\n",
      "\n",
      "#Unique Test Concepts : 514\n",
      "#Unique Test Property : 10\n",
      "\n",
      "Concept Intersection : 514\n",
      "Property Intersection : 0\n",
      "\n",
      "used for eating : ['used for cooking', 'used for holding things', 'used for cleaning']\n",
      "has peel : ['used for holding things', 'used for cooking', 'found on walls']\n",
      "hot : ['used for cooking', 'used for holding things', 'worn for warmth']\n",
      "cold : ['worn for warmth', 'wet', 'used for holding things']\n",
      "pairs : ['worn on feet', 'used by children', 'used for holding things']\n",
      "eaten in summer : ['used for cooking', 'used for holding things', 'used by children']\n",
      "heavy : ['large', 'used for music', 'used for transportation']\n",
      "used for killing : ['used for holding things', 'used for transportation', 'used for music']\n",
      "words on it : ['used for holding things', 'used for music', 'used by children']\n",
      "requires gasoline : ['used for transportation', 'used for holding things', 'used for cleaning']\n",
      "All Preds for fold : 4798\n",
      "For Fold 1\n",
      "/home/amitgajbhiye/cardiff_work/dot_product_model_nn_analysis/mcrae_train_test_embeddings/mcrae_prop_split_train_test_files/1_train_prop_split_con_prop.pkl\n",
      "/home/amitgajbhiye/cardiff_work/dot_product_model_nn_analysis/mcrae_train_test_embeddings/mcrae_prop_split_train_test_files/1_test_prop_split_con_prop.pkl\n",
      "\n",
      "Train Df shape : (19279, 3), Index(['concept', 'property', 'label'], dtype='object')\n",
      "Test Df shape : (4792, 3), Index(['concept', 'property', 'label'], dtype='object')\n",
      "num train concept : 514\n",
      "vector train concept : 514\n",
      "num train property : 40\n",
      "vector train property : 40\n",
      "num test concept : 514\n",
      "vector test concept : 514\n",
      "num test property : 10\n",
      "vector test property : 10\n",
      "\n",
      "#Unique Train Concepts : 514\n",
      "#Unique Train Property : 40\n",
      "\n",
      "#Unique Test Concepts : 514\n",
      "#Unique Test Property : 10\n",
      "\n",
      "Concept Intersection : 514\n",
      "Property Intersection : 0\n",
      "\n",
      "lives in water : ['found on walls', 'used for holding things', 'eaten in summer']\n",
      "wet : ['cold', 'worn on feet', 'worn for warmth']\n",
      "slimy : ['squishy', 'smelly', 'used for eating']\n",
      "used for cleaning : ['used for cooking', 'used for holding things', 'used for eating']\n",
      "expensive : ['used for transportation', 'used for cooking', 'used for eating']\n",
      "used by children : ['used for eating', 'used for holding things', 'used for cooking']\n",
      "a tool : ['used for holding things', 'used for transportation', 'used for cooking']\n",
      "used for music : ['used for holding things', 'used for cooking', 'used for eating']\n",
      "a toy : ['used for holding things', 'used for eating', 'words on it']\n",
      "fast : ['used for eating', 'used for holding things', 'words on it']\n",
      "All Preds for fold : 4792\n",
      "For Fold 2\n",
      "/home/amitgajbhiye/cardiff_work/dot_product_model_nn_analysis/mcrae_train_test_embeddings/mcrae_prop_split_train_test_files/2_train_prop_split_con_prop.pkl\n",
      "/home/amitgajbhiye/cardiff_work/dot_product_model_nn_analysis/mcrae_train_test_embeddings/mcrae_prop_split_train_test_files/2_test_prop_split_con_prop.pkl\n",
      "\n",
      "Train Df shape : (19212, 3), Index(['concept', 'property', 'label'], dtype='object')\n",
      "Test Df shape : (4859, 3), Index(['concept', 'property', 'label'], dtype='object')\n",
      "num train concept : 514\n",
      "vector train concept : 514\n",
      "num train property : 40\n",
      "vector train property : 40\n",
      "num test concept : 514\n",
      "vector test concept : 514\n",
      "num test property : 10\n",
      "vector test property : 10\n",
      "\n",
      "#Unique Train Concepts : 514\n",
      "#Unique Train Property : 40\n",
      "\n",
      "#Unique Test Concepts : 514\n",
      "#Unique Test Property : 10\n",
      "\n",
      "Concept Intersection : 514\n",
      "Property Intersection : 0\n",
      "\n",
      "has shelves : ['eaten in summer', 'used for holding things', 'used by children']\n",
      "unhealthy : ['used for eating', 'eaten in summer', 'dangerous']\n",
      "fun : ['used for music', 'used for holding things', 'used for eating']\n",
      "flies : ['used for holding things', 'worn on feet', 'used for eating']\n",
      "found on walls : ['used for holding things', 'used by children', 'words on it']\n",
      "worn for warmth : ['worn on feet', 'used for holding things', 'used for music']\n",
      "decorative : ['used for cooking', 'used for cleaning', 'used for holding things']\n",
      "sharp : ['words on it', 'used for holding things', 'used by children']\n",
      "swims : ['lives in water', 'eaten in summer', 'used for eating']\n",
      "smooth : ['used for holding things', 'used for transportation', 'used for cleaning']\n",
      "All Preds for fold : 4859\n",
      "For Fold 3\n",
      "/home/amitgajbhiye/cardiff_work/dot_product_model_nn_analysis/mcrae_train_test_embeddings/mcrae_prop_split_train_test_files/3_train_prop_split_con_prop.pkl\n",
      "/home/amitgajbhiye/cardiff_work/dot_product_model_nn_analysis/mcrae_train_test_embeddings/mcrae_prop_split_train_test_files/3_test_prop_split_con_prop.pkl\n",
      "\n",
      "Train Df shape : (19325, 3), Index(['concept', 'property', 'label'], dtype='object')\n",
      "Test Df shape : (4746, 3), Index(['concept', 'property', 'label'], dtype='object')\n",
      "num train concept : 514\n",
      "vector train concept : 514\n",
      "num train property : 40\n",
      "vector train property : 40\n",
      "num test concept : 514\n",
      "vector test concept : 514\n",
      "num test property : 10\n",
      "vector test property : 10\n",
      "\n",
      "#Unique Train Concepts : 514\n",
      "#Unique Train Property : 40\n",
      "\n",
      "#Unique Test Concepts : 514\n",
      "#Unique Test Property : 10\n",
      "\n",
      "Concept Intersection : 514\n",
      "Property Intersection : 0\n",
      "\n",
      "dangerous : ['used for killing', 'used by children', 'used for eating']\n",
      "large : ['found on walls', 'used for eating', 'used by children']\n",
      "edible : ['used for cooking', 'used for eating', 'eaten in summer']\n",
      "tall : ['worn on feet', 'man made', 'found on walls']\n",
      "used for holding things : ['used for eating', 'used for music', 'used for cleaning']\n",
      "light weight : ['words on it', 'used for eating', 'found on walls']\n",
      "produces noise : ['used for music', 'used for eating', 'used by children']\n",
      "electrical : ['lives in water', 'used for transportation', 'used for cleaning']\n",
      "shiny : ['found on walls', 'a toy', 'worn for warmth']\n",
      "squishy : ['slimy', 'used for eating', 'a toy']\n",
      "All Preds for fold : 4746\n",
      "For Fold 4\n",
      "/home/amitgajbhiye/cardiff_work/dot_product_model_nn_analysis/mcrae_train_test_embeddings/mcrae_prop_split_train_test_files/4_train_prop_split_con_prop.pkl\n",
      "/home/amitgajbhiye/cardiff_work/dot_product_model_nn_analysis/mcrae_train_test_embeddings/mcrae_prop_split_train_test_files/4_test_prop_split_con_prop.pkl\n",
      "\n",
      "Train Df shape : (19195, 3), Index(['concept', 'property', 'label'], dtype='object')\n",
      "Test Df shape : (4876, 3), Index(['concept', 'property', 'label'], dtype='object')\n",
      "num train concept : 514\n",
      "vector train concept : 514\n",
      "num train property : 40\n",
      "vector train property : 40\n",
      "num test concept : 514\n",
      "vector test concept : 514\n",
      "num test property : 10\n",
      "vector test property : 10\n",
      "\n",
      "#Unique Train Concepts : 514\n",
      "#Unique Train Property : 40\n",
      "\n",
      "#Unique Test Concepts : 514\n",
      "#Unique Test Property : 10\n",
      "\n",
      "Concept Intersection : 514\n",
      "Property Intersection : 0\n",
      "\n",
      "worn on feet : ['worn for warmth', 'found on walls', 'used for holding things']\n",
      "loud : ['produces noise', 'words on it', 'used for music']\n",
      "man made : ['used for holding things', 'words on it', 'used by children']\n",
      "hard : ['used for holding things', 'words on it', 'used for music']\n",
      "used for transportation : ['used for holding things', 'used for music', 'used for cleaning']\n",
      "hand held : ['used for holding things', 'used by children', 'used for music']\n",
      "smelly : ['used for cleaning', 'used for eating', 'slimy']\n",
      "fragile : ['used for holding things', 'used by children', 'words on it']\n",
      "an animal : ['used by children', 'used for eating', 'words on it']\n",
      "used for cooking : ['used for eating', 'used for cleaning', 'used for music']\n",
      "All Preds for fold : 4876\n",
      "Finished\n"
     ]
    }
   ],
   "source": [
    "\n",
    "# local path for property split:\n",
    "local_base_path = \"/home/amitgajbhiye/cardiff_work/dot_product_model_nn_analysis/mcrae_train_test_embeddings/mcrae_prop_split_train_test_files\"\n",
    "\n",
    "\n",
    "all_gold_labels, all_preds  = [], []\n",
    "\n",
    "for x in range(5):\n",
    "    \n",
    "    print (f\"For Fold {x}\")\n",
    "    train_file_path = os.path.join(local_base_path, f\"{x}_train_prop_split_con_prop.pkl\")\n",
    "    test_file_path = os.path.join(local_base_path, f\"{x}_test_prop_split_con_prop.pkl\")\n",
    "    \n",
    "    print (train_file_path)\n",
    "    print (test_file_path)\n",
    "    print ()\n",
    "    \n",
    "    with open (train_file_path, \"rb\") as train_file, open (test_file_path, \"rb\") as test_file:\n",
    "        train_df = pickle.load(train_file)\n",
    "        test_df = pickle.load(test_file)\n",
    "    \n",
    "    print (f\"Train Df shape : {train_df.shape}, {train_df.columns}\")\n",
    "    print (f\"Test Df shape : {test_df.shape}, {test_df.columns}\")\n",
    "    \n",
    "    train_concept = train_df[\"concept\"].unique()\n",
    "    \n",
    "    name_train_concept = train_concept\n",
    "    vectors_train_concept = [con2vec[con] for con in name_train_concept]\n",
    "    \n",
    "    print (f\"num train concept : {len(name_train_concept)}\")\n",
    "    print (f\"vector train concept : {len(vectors_train_concept)}\")\n",
    "    \n",
    "    train_prop = train_df[\"property\"].unique()\n",
    "    \n",
    "    name_train_prop = train_prop\n",
    "    vectors_train_prop = [prop2vec[prop] for prop in name_train_prop]\n",
    "    \n",
    "    print (f\"num train property : {len(name_train_prop)}\")\n",
    "    print (f\"vector train property : {len(vectors_train_prop)}\")\n",
    "\n",
    "    test_concept = test_df[\"concept\"].unique()\n",
    "    \n",
    "    name_test_concept = test_concept\n",
    "    vectors_test_concept = [con2vec[con] for con in name_test_concept]\n",
    "    \n",
    "    print (f\"num test concept : {len(name_test_concept)}\")\n",
    "    print (f\"vector test concept : {len(vectors_test_concept)}\")\n",
    "    \n",
    "    test_prop = test_df[\"property\"].unique()\n",
    "    \n",
    "    name_test_prop = test_prop\n",
    "    vectors_test_prop = [prop2vec[prop] for prop in name_test_prop]\n",
    "    \n",
    "    print (f\"num test property : {len(name_test_prop)}\")\n",
    "    print (f\"vector test property : {len(vectors_test_prop)}\")\n",
    "    \n",
    "    print ()\n",
    "    \n",
    "    print (f\"#Unique Train Concepts : {len(train_concept)}\")\n",
    "    print (f\"#Unique Train Property : {len(train_prop)}\")\n",
    "    \n",
    "    print ()\n",
    "    print (f\"#Unique Test Concepts : {len(test_concept)}\")\n",
    "    print (f\"#Unique Test Property : {len(test_prop)}\")\n",
    "    \n",
    "    print()\n",
    "    print (f\"Concept Intersection : {len(set(train_concept).intersection(test_concept))}\")\n",
    "    print (f\"Property Intersection : {len(set(train_prop).intersection(test_prop))}\")\n",
    "    print ()\n",
    "            \n",
    "    \n",
    "    train_prop_nbrs = NearestNeighbors(n_neighbors=num_nearest_neighbours, algorithm='brute', metric='euclidean').fit(np.array(vectors_train_prop))\n",
    "    prop_test_distances, prop_test_indices = train_prop_nbrs.kneighbors(np.array(vectors_test_prop))\n",
    "    \n",
    "    train_props_similar_to_test = {}\n",
    "    \n",
    "    for idx, prop in zip(prop_test_indices, name_test_prop):\n",
    "        \n",
    "        train_props_similar_to_test[prop] = [name_train_prop[prop_id] for prop_id in idx]\n",
    "        print (f\"{prop} : {train_props_similar_to_test[prop]}\")\n",
    "    \n",
    "    \n",
    "    gold_label_for_fold = test_df[\"label\"].values\n",
    "    pred_for_fold = predict_label(train_props_similar_to_test, train_df, test_df)\n",
    "    \n",
    "    all_gold_labels.extend(gold_label_for_fold)\n",
    "    all_preds.extend(pred_for_fold)\n",
    "    \n",
    "    \n",
    "all_gold_labels = np.array(all_gold_labels)\n",
    "all_preds = np.array(all_preds)\n",
    "\n",
    "print (\"Finished\")\n"
   ]
  },
  {
   "cell_type": "code",
   "execution_count": 12,
   "id": "57055222-32d3-441d-b731-c4f343fbdcbf",
   "metadata": {},
   "outputs": [
    {
     "data": {
      "text/plain": [
       "24071"
      ]
     },
     "execution_count": 12,
     "metadata": {},
     "output_type": "execute_result"
    }
   ],
   "source": [
    "len(all_preds)"
   ]
  },
  {
   "cell_type": "code",
   "execution_count": 13,
   "id": "ab0c34fc-502e-41fb-8c48-791ccdd4d9e1",
   "metadata": {},
   "outputs": [
    {
     "data": {
      "text/plain": [
       "24071"
      ]
     },
     "execution_count": 13,
     "metadata": {},
     "output_type": "execute_result"
    }
   ],
   "source": [
    "len(all_gold_labels)"
   ]
  },
  {
   "cell_type": "code",
   "execution_count": 14,
   "id": "02578308-2856-4f04-84c7-b4584a7d8a44",
   "metadata": {},
   "outputs": [],
   "source": [
    "assert len(all_gold_labels) == len(all_preds)"
   ]
  },
  {
   "cell_type": "code",
   "execution_count": 15,
   "id": "513f7b97-0375-448b-8114-c5debf76c0c4",
   "metadata": {},
   "outputs": [
    {
     "name": "stdout",
     "output_type": "stream",
     "text": [
      "Counter({0: 23297, 1: 774})\n",
      "Counter({0: 19829, 1: 4242})\n"
     ]
    }
   ],
   "source": [
    "print (Counter(all_preds))\n",
    "print (Counter(all_gold_labels))"
   ]
  },
  {
   "cell_type": "code",
   "execution_count": 16,
   "id": "715ac0d2-82ff-4722-b30f-06af4aa4648b",
   "metadata": {},
   "outputs": [],
   "source": [
    "results = compute_scores(all_gold_labels, all_preds)"
   ]
  },
  {
   "cell_type": "code",
   "execution_count": 17,
   "id": "3951ccd8-6199-44c9-a3d5-855c76327666",
   "metadata": {},
   "outputs": [
    {
     "name": "stdout",
     "output_type": "stream",
     "text": [
      "\n",
      "Property Split\n",
      "NN Classifier with skip-gram\n",
      "Nearest Neighbours Considered : 3\n",
      "\n",
      "binary_f1 0.0953\n",
      "micro_f1 0.8115\n",
      "macro_f1 0.495\n",
      "weighted_f1 0.7539\n",
      "accuracy 0.8115\n",
      "classification report               precision    recall  f1-score   support\n",
      "\n",
      "           0       0.83      0.97      0.89     19829\n",
      "           1       0.31      0.06      0.10      4242\n",
      "\n",
      "    accuracy                           0.81     24071\n",
      "   macro avg       0.57      0.51      0.50     24071\n",
      "weighted avg       0.74      0.81      0.75     24071\n",
      "\n",
      "confusion matrix [[19294   535]\n",
      " [ 4003   239]]\n"
     ]
    }
   ],
   "source": [
    "print ()\n",
    "print (\"Property Split\")\n",
    "print (f\"NN Classifier with {model_class}\")\n",
    "print (f\"Nearest Neighbours Considered : {num_nearest_neighbours}\")\n",
    "print ()\n",
    "\n",
    "for key, value in results.items():\n",
    "    print (key, value)"
   ]
  },
  {
   "cell_type": "code",
   "execution_count": null,
   "id": "3d15d822-d827-4120-b382-ce5fbe8b8ecc",
   "metadata": {},
   "outputs": [],
   "source": []
  },
  {
   "cell_type": "code",
   "execution_count": null,
   "id": "41ffe27e-3aaf-4f8c-bea5-c36d310956c5",
   "metadata": {},
   "outputs": [],
   "source": []
  }
 ],
 "metadata": {
  "kernelspec": {
   "display_name": "Python 3 (ipykernel)",
   "language": "python",
   "name": "python3"
  },
  "language_info": {
   "codemirror_mode": {
    "name": "ipython",
    "version": 3
   },
   "file_extension": ".py",
   "mimetype": "text/x-python",
   "name": "python",
   "nbconvert_exporter": "python",
   "pygments_lexer": "ipython3",
   "version": "3.9.7"
  }
 },
 "nbformat": 4,
 "nbformat_minor": 5
}
