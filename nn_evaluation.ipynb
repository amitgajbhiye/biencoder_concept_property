{
 "cells": [
  {
   "cell_type": "code",
   "execution_count": null,
   "id": "50fb0e9a-8e6c-4994-812c-2e313de66ab7",
   "metadata": {},
   "outputs": [],
   "source": [
    "import numpy as np\n",
    "import pandas as pd\n",
    "import os\n",
    "\n",
    "import torch\n",
    "import nltk\n",
    "import pickle\n",
    "\n",
    "from model.concept_property_model import ConceptPropertyModel\n",
    "from utils.functions import create_model\n",
    "from utils.functions import load_pretrained_model\n",
    "from utils.functions import read_config\n",
    "from utils.functions import mcrae_dataset_and_dataloader\n",
    "\n",
    "device = torch.device(\"cuda\") if torch.cuda.is_available() else torch.device(\"cpu\")\n",
    "# assert os.environ[\"CONDA_DEFAULT_ENV\"] == \"gvenv\", \"Activate 'gvenv' conda environment\"\n",
    "\n",
    "print (f\"Device Name : {device}\")\n",
    "print (f\"Conda Environment Name : {os.environ['CONDA_DEFAULT_ENV']}\")"
   ]
  },
  {
   "cell_type": "code",
   "execution_count": null,
   "id": "f60e9f8c-70c1-4eec-862b-16c9df0c950d",
   "metadata": {},
   "outputs": [],
   "source": []
  },
  {
   "cell_type": "code",
   "execution_count": null,
   "id": "f5afc4d1-3df5-4f33-85e2-6e384b010756",
   "metadata": {},
   "outputs": [],
   "source": []
  },
  {
   "cell_type": "code",
   "execution_count": null,
   "id": "c507d9ad-01d6-4d73-82e4-f612ddb24d72",
   "metadata": {},
   "outputs": [],
   "source": []
  },
  {
   "cell_type": "code",
   "execution_count": null,
   "id": "c4e4f2c9-2be4-4a6b-9d95-1cf2db0b292c",
   "metadata": {},
   "outputs": [],
   "source": []
  },
  {
   "cell_type": "code",
   "execution_count": null,
   "id": "ed66f71c-9b1f-4166-acb3-223395ac8d2e",
   "metadata": {},
   "outputs": [],
   "source": []
  },
  {
   "cell_type": "code",
   "execution_count": null,
   "id": "ad9fdf54-bfec-42a4-8f81-9b755c61bc35",
   "metadata": {},
   "outputs": [],
   "source": []
  },
  {
   "cell_type": "code",
   "execution_count": null,
   "id": "8177b0fc-e6e1-4e22-82db-733fd42f7694",
   "metadata": {},
   "outputs": [],
   "source": []
  },
  {
   "cell_type": "code",
   "execution_count": null,
   "id": "53b52ff9-b340-4117-9f86-b3e35cece536",
   "metadata": {},
   "outputs": [],
   "source": []
  },
  {
   "cell_type": "code",
   "execution_count": null,
   "id": "02578308-2856-4f04-84c7-b4584a7d8a44",
   "metadata": {},
   "outputs": [],
   "source": []
  },
  {
   "cell_type": "code",
   "execution_count": null,
   "id": "715ac0d2-82ff-4722-b30f-06af4aa4648b",
   "metadata": {},
   "outputs": [],
   "source": []
  },
  {
   "cell_type": "code",
   "execution_count": null,
   "id": "3951ccd8-6199-44c9-a3d5-855c76327666",
   "metadata": {},
   "outputs": [],
   "source": []
  },
  {
   "cell_type": "code",
   "execution_count": null,
   "id": "3884ae5d-41bc-40d1-bdf3-07b51efb741c",
   "metadata": {},
   "outputs": [],
   "source": []
  },
  {
   "cell_type": "code",
   "execution_count": null,
   "id": "ad46a40e-159a-454c-8b5d-d5d654fd4de4",
   "metadata": {},
   "outputs": [],
   "source": []
  },
  {
   "cell_type": "code",
   "execution_count": null,
   "id": "5a39b0b4-c825-461f-af77-e981d930c434",
   "metadata": {},
   "outputs": [],
   "source": []
  },
  {
   "cell_type": "code",
   "execution_count": null,
   "id": "363f3ea3-9ee3-4a3e-9f4a-6975e91c3bd7",
   "metadata": {},
   "outputs": [],
   "source": []
  },
  {
   "cell_type": "code",
   "execution_count": null,
   "id": "26577714-3898-44a8-9104-7d7b4a26f90a",
   "metadata": {},
   "outputs": [],
   "source": []
  },
  {
   "cell_type": "code",
   "execution_count": null,
   "id": "fadcaa87-b636-4b1b-8ad4-3e239a37b445",
   "metadata": {},
   "outputs": [],
   "source": []
  },
  {
   "cell_type": "code",
   "execution_count": null,
   "id": "767752ac-3f02-41fa-9dfb-89bad294e2f7",
   "metadata": {},
   "outputs": [],
   "source": []
  },
  {
   "cell_type": "code",
   "execution_count": null,
   "id": "3d15d822-d827-4120-b382-ce5fbe8b8ecc",
   "metadata": {},
   "outputs": [],
   "source": []
  },
  {
   "cell_type": "code",
   "execution_count": null,
   "id": "41ffe27e-3aaf-4f8c-bea5-c36d310956c5",
   "metadata": {},
   "outputs": [],
   "source": []
  }
 ],
 "metadata": {
  "kernelspec": {
   "display_name": "Python 3 (ipykernel)",
   "language": "python",
   "name": "python3"
  },
  "language_info": {
   "codemirror_mode": {
    "name": "ipython",
    "version": 3
   },
   "file_extension": ".py",
   "mimetype": "text/x-python",
   "name": "python",
   "nbconvert_exporter": "python",
   "pygments_lexer": "ipython3",
   "version": "3.9.7"
  }
 },
 "nbformat": 4,
 "nbformat_minor": 5
}
