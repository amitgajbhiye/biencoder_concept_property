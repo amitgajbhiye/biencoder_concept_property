{
 "cells": [
  {
   "cell_type": "code",
   "execution_count": null,
   "id": "381b8985-edf9-4969-b640-c40a4b8dde01",
   "metadata": {},
   "outputs": [],
   "source": [
    "import numpy as np\n",
    "import pandas as pd\n",
    "import os\n",
    "\n",
    "import torch\n",
    "import nltk\n",
    "import pickle\n",
    "\n",
    "from model.concept_property_model import ConceptPropertyModel\n",
    "from utils.functions import create_model\n",
    "from utils.functions import load_pretrained_model\n",
    "from utils.functions import read_config\n",
    "from utils.functions import mcrae_dataset_and_dataloader\n",
    "from utils.functions import compute_scores\n",
    "\n",
    "from sklearn.neighbors import NearestNeighbors\n",
    "from collections import Counter\n",
    "\n",
    "device = torch.device(\"cuda\") if torch.cuda.is_available() else torch.device(\"cpu\")\n",
    "# assert os.environ[\"CONDA_DEFAULT_ENV\"] == \"gvenv\", \"Activate 'gvenv' conda environment\"\n",
    "\n",
    "print (f\"Device Name : {device}\")\n",
    "print (f\"Conda Environment Name : {os.environ['CONDA_DEFAULT_ENV']}\")"
   ]
  },
  {
   "cell_type": "code",
   "execution_count": null,
   "id": "d75358ba-f6b0-4d93-97c2-2f7ce3c0c9ff",
   "metadata": {},
   "outputs": [],
   "source": [
    "mcrae_train_df = pd.read_csv(\"data/evaluation_data/extended_mcrae/train_mcrae.tsv\", sep=\"\\t\", names=[\"concept\", \"property\", \"label\"])\n",
    "mcrae_test_df = pd.read_csv(\"data/evaluation_data/extended_mcrae/test_mcrae.tsv\", sep=\"\\t\", names=[\"concept\", \"property\", \"label\"])\n",
    "\n",
    "print (\"McRae Train Df size : \", mcrae_train_df.shape)\n",
    "print (mcrae_train_df.head())\n",
    "\n",
    "print ()\n",
    "\n",
    "print (\"McRae Test Df size : \", mcrae_test_df.shape)\n",
    "print (mcrae_test_df)\n"
   ]
  },
  {
   "cell_type": "code",
   "execution_count": null,
   "id": "f71e88d1-cd60-4d2f-a5a0-aaa4af17c1d8",
   "metadata": {},
   "outputs": [],
   "source": []
  },
  {
   "cell_type": "code",
   "execution_count": null,
   "id": "f60e9f8c-70c1-4eec-862b-16c9df0c950d",
   "metadata": {},
   "outputs": [],
   "source": [
    "\n",
    "train_con_file = \"/home/amitgajbhiye/cardiff_work/dot_product_model_nn_analysis/mcrae_train_test_embeddings/mcrae_bert_base_train_cons_embeds.pkl\"\n",
    "train_prop_file = \"/home/amitgajbhiye/cardiff_work/dot_product_model_nn_analysis/mcrae_train_test_embeddings/mcrae_bert_base_train_prop_embeds.pkl\"\n",
    "\n",
    "test_con_file = \"/home/amitgajbhiye/cardiff_work/dot_product_model_nn_analysis/mcrae_train_test_embeddings/mcrae_bert_base_test_cons_embeds.pkl\"\n",
    "test_prop_file = \"/home/amitgajbhiye/cardiff_work/dot_product_model_nn_analysis/mcrae_train_test_embeddings/mcrae_bert_base_test_prop_embeds.pkl\"\n",
    "\n",
    "with open(train_con_file, \"rb\") as train_con_emb, \\\n",
    "    open(train_prop_file, \"rb\") as train_prop_emb, \\\n",
    "    open(test_con_file, \"rb\") as test_con_emb, \\\n",
    "    open(test_prop_file, \"rb\") as test_prop_emb:\n",
    "    \n",
    "    train_con_emb = pickle.load(train_con_emb)\n",
    "    train_prop_emb = pickle.load(train_prop_emb)\n",
    "    \n",
    "    test_con_emb = pickle.load(test_con_emb)\n",
    "    test_prop_emb = pickle.load(test_prop_emb)\n",
    "\n",
    "\n",
    "# hawk_train_con_file = \"data/evaluation_data/nn_analysis/mcrae_train_concept_embedding.pkl\"\n",
    "# hawk_train_prop_file = \"data/evaluation_data/nn_analysis/mcrae_train_properties_embedding.pkl\"\n",
    "\n",
    "# hawk_test_con_file = \"data/evaluation_data/nn_analysis/mcrae_test_concept_embedding.pkl\"\n",
    "# hawk_test_prop_file = \"data/evaluation_data/nn_analysis/mcrae_test_properties_embedding.pkl\"\n",
    "\n",
    "# with open(hawk_train_con_file, \"rb\") as train_con_emb, \\\n",
    "#     open(hawk_train_prop_file, \"rb\") as train_prop_emb, \\\n",
    "#     open(hawk_test_con_file, \"rb\") as test_con_emb, \\\n",
    "#     open(hawk_test_prop_file, \"rb\") as test_prop_emb:\n",
    "    \n",
    "#     train_con_emb = pickle.load(train_con_emb)\n",
    "#     train_prop_emb = pickle.load(train_prop_emb)\n",
    "    \n",
    "#     test_con_emb = pickle.load(test_con_emb)\n",
    "#     test_prop_emb = pickle.load(test_prop_emb)\n"
   ]
  },
  {
   "cell_type": "code",
   "execution_count": null,
   "id": "f5afc4d1-3df5-4f33-85e2-6e384b010756",
   "metadata": {},
   "outputs": [],
   "source": [
    "print (train_con_emb.keys())\n",
    "print (train_prop_emb.keys())\n",
    "\n",
    "# print (\"Train Concepts :\", len(train_con_emb.get(\"name_list_con\")))\n",
    "# print (\"Train Concepts :\", train_con_emb.get(\"name_list_con\"))\n",
    "\n",
    "print (\"Train Properties :\", len(train_prop_emb.get(\"name_list_prop\")))\n",
    "print (\"Train Properties :\", train_prop_emb.get(\"name_list_prop\"))\n",
    "\n",
    "print ()\n",
    "\n",
    "print (test_con_emb.keys())\n",
    "print (test_prop_emb.keys())\n",
    "\n",
    "# print (\"Test Concepts :\", len(test_con_emb.get(\"name_list_con\")))\n",
    "# print (\"Test Concepts :\", test_con_emb.get(\"name_list_con\"))\n",
    "\n",
    "print (\"Test Properties :\", len(test_prop_emb.get(\"name_list_prop\")))\n",
    "print (\"Test Properties :\", test_prop_emb.get(\"name_list_prop\"))\n"
   ]
  },
  {
   "cell_type": "code",
   "execution_count": null,
   "id": "c507d9ad-01d6-4d73-82e4-f612ddb24d72",
   "metadata": {},
   "outputs": [],
   "source": [
    "inter = set(train_prop_emb.get(\"name_list_prop\")).intersection(set(test_prop_emb.get(\"name_list_prop\")))\n",
    "print (len(inter))\n",
    "print (inter)"
   ]
  },
  {
   "cell_type": "code",
   "execution_count": null,
   "id": "cde8dfee-9d21-4fe1-b7c7-d5fb4942ba6d",
   "metadata": {},
   "outputs": [],
   "source": [
    "print (len(train_con_emb.get(\"transformed_con_emb\")))\n",
    "print (len(test_con_emb.get(\"transformed_con_emb\")))"
   ]
  },
  {
   "cell_type": "code",
   "execution_count": null,
   "id": "c4e4f2c9-2be4-4a6b-9d95-1cf2db0b292c",
   "metadata": {},
   "outputs": [],
   "source": [
    "# Learning Nearest Neighbours\n",
    "num_nearest_neighbours = 3\n",
    "train_con_nbrs = NearestNeighbors(n_neighbors=num_nearest_neighbours, algorithm='brute', metric='euclidean').fit(np.array(train_con_emb.get(\"transformed_con_emb\")))\n",
    "\n",
    "con_test_distances, con_test_indices = train_con_nbrs.kneighbors(np.array(test_con_emb.get(\"transformed_con_emb\")))"
   ]
  },
  {
   "cell_type": "code",
   "execution_count": null,
   "id": "347d163a-aef3-43ee-a7ac-5cb6a89cad4a",
   "metadata": {},
   "outputs": [],
   "source": [
    "train_con_emb.keys()"
   ]
  },
  {
   "cell_type": "code",
   "execution_count": null,
   "id": "5d456b5d-336f-4d77-bf19-8c70bc7d998c",
   "metadata": {
    "tags": []
   },
   "outputs": [],
   "source": [
    "# print (con_test_indices.shape)\n",
    "# print (con_test_indices)"
   ]
  },
  {
   "cell_type": "code",
   "execution_count": null,
   "id": "ed66f71c-9b1f-4166-acb3-223395ac8d2e",
   "metadata": {
    "tags": []
   },
   "outputs": [],
   "source": [
    "train_cons_similar_to_test = {}\n",
    "\n",
    "for idx, con in zip(con_test_indices, test_con_emb.get(\"name_list_con\")):    \n",
    "    # print (f\"Test Concept : {con} : {[train_con_emb.get('name_list_con') [con_id] for con_id in idx]}\\n\", flush=True)\n",
    "    \n",
    "    train_cons_similar_to_test[con] = [train_con_emb.get('name_list_con') [con_id] for con_id in idx]\n",
    "    "
   ]
  },
  {
   "cell_type": "code",
   "execution_count": null,
   "id": "ad9fdf54-bfec-42a4-8f81-9b755c61bc35",
   "metadata": {},
   "outputs": [],
   "source": [
    "print (len(train_cons_similar_to_test.keys()))\n",
    "print (train_cons_similar_to_test.keys())"
   ]
  },
  {
   "cell_type": "code",
   "execution_count": null,
   "id": "8177b0fc-e6e1-4e22-82db-733fd42f7694",
   "metadata": {
    "tags": []
   },
   "outputs": [],
   "source": [
    "preds = []\n",
    "\n",
    "for index, row in mcrae_test_df.iterrows():\n",
    "    print (\"Index :\", index)\n",
    "    test_con, test_prop, test_label = row[\"concept\"], row[\"property\"], row[\"label\"]\n",
    "    train_similar_concepts = train_cons_similar_to_test.get(test_con)\n",
    "    assert train_similar_concepts is not None, \"No Train Similar Concepts for the Test Concept\"\n",
    "    \n",
    "    # print (\"Test Data :\", index, test_con, test_prop, test_label)\n",
    "    # print (\"Concepts Similar to test concept in Train File\")\n",
    "    # print (train_similar_concepts)\n",
    "    \n",
    "    # print (\"Positive properties of similar concepts in train file :\") \n",
    "    \n",
    "    positive_prop = []\n",
    "    \n",
    "    for train_con in train_similar_concepts:\n",
    "        positive_property = mcrae_train_df.loc[(mcrae_train_df[\"concept\"] == train_con) & (mcrae_train_df[\"label\"] == 1)][\"property\"].tolist()\n",
    "        positive_prop.extend(positive_property)\n",
    "        # print (train_con, \":\",  positive_property)\n",
    "    \n",
    "    # print (\"positive_prop\")\n",
    "    # print (positive_prop)\n",
    "    \n",
    "    prop_dict  = dict(Counter(positive_prop))\n",
    "    max_prop_count = max(prop_dict.values())\n",
    "    \n",
    "    # print (prop_dict)\n",
    "    # print (max_prop_count)\n",
    "    \n",
    "    prop_with_max_count = [] \n",
    "    for prop, count in prop_dict.items():\n",
    "        # print (prop, count)\n",
    "        \n",
    "        if count == max_prop_count:\n",
    "            prop_with_max_count.append(prop)\n",
    "    \n",
    "    # print (prop_with_max_count)\n",
    "    \n",
    "    # print (\"Test Prop :\", test_prop)\n",
    "    # print (\"prop_with_max_count :\", prop_with_max_count)\n",
    "    # print (\"test_prop in prop_with_max_count :\", test_prop in prop_with_max_count)\n",
    "    \n",
    "    if test_prop in prop_with_max_count:\n",
    "        test_pred = 1\n",
    "    else:\n",
    "        test_pred = 0\n",
    "    \n",
    "    preds.append(test_pred)\n",
    "    # print (\"test_pred :\", test_pred)\n",
    "    \n",
    "    # print()\n",
    "    "
   ]
  },
  {
   "cell_type": "code",
   "execution_count": null,
   "id": "4de147bd-8c4d-4751-bec3-ce514bc8798b",
   "metadata": {},
   "outputs": [],
   "source": [
    "gold_labels = mcrae_test_df[\"label\"].values"
   ]
  },
  {
   "cell_type": "code",
   "execution_count": null,
   "id": "2d572622-4358-4ed4-989f-a556f12d6ea0",
   "metadata": {},
   "outputs": [],
   "source": [
    "gold_labels"
   ]
  },
  {
   "cell_type": "code",
   "execution_count": null,
   "id": "02578308-2856-4f04-84c7-b4584a7d8a44",
   "metadata": {},
   "outputs": [],
   "source": [
    "assert len(gold_labels) == len(np.array(preds))"
   ]
  },
  {
   "cell_type": "code",
   "execution_count": null,
   "id": "513f7b97-0375-448b-8114-c5debf76c0c4",
   "metadata": {},
   "outputs": [],
   "source": [
    "print (Counter(preds))\n",
    "print (Counter(gold_labels))"
   ]
  },
  {
   "cell_type": "code",
   "execution_count": null,
   "id": "715ac0d2-82ff-4722-b30f-06af4aa4648b",
   "metadata": {},
   "outputs": [],
   "source": [
    "results = compute_scores(gold_labels, preds)"
   ]
  },
  {
   "cell_type": "code",
   "execution_count": null,
   "id": "3951ccd8-6199-44c9-a3d5-855c76327666",
   "metadata": {},
   "outputs": [],
   "source": [
    "print ()\n",
    "print (\"Concept Split\")\n",
    "print (f\"NN Classifier with pretrained BERT Base Embedding pretrained on MSCG+PREFIX+GKB Data\")\n",
    "print (f\"Nearest Neighbours Considered : {num_nearest_neighbours}\")\n",
    "print ()\n",
    "\n",
    "for key, value in results.items():\n",
    "    print (key, value)"
   ]
  },
  {
   "cell_type": "code",
   "execution_count": null,
   "id": "3884ae5d-41bc-40d1-bdf3-07b51efb741c",
   "metadata": {},
   "outputs": [],
   "source": []
  },
  {
   "cell_type": "code",
   "execution_count": null,
   "id": "ad46a40e-159a-454c-8b5d-d5d654fd4de4",
   "metadata": {},
   "outputs": [],
   "source": []
  },
  {
   "cell_type": "code",
   "execution_count": null,
   "id": "5a39b0b4-c825-461f-af77-e981d930c434",
   "metadata": {},
   "outputs": [],
   "source": []
  },
  {
   "cell_type": "code",
   "execution_count": null,
   "id": "363f3ea3-9ee3-4a3e-9f4a-6975e91c3bd7",
   "metadata": {},
   "outputs": [],
   "source": []
  },
  {
   "cell_type": "code",
   "execution_count": null,
   "id": "26577714-3898-44a8-9104-7d7b4a26f90a",
   "metadata": {},
   "outputs": [],
   "source": []
  },
  {
   "cell_type": "code",
   "execution_count": null,
   "id": "fadcaa87-b636-4b1b-8ad4-3e239a37b445",
   "metadata": {},
   "outputs": [],
   "source": []
  },
  {
   "cell_type": "code",
   "execution_count": null,
   "id": "767752ac-3f02-41fa-9dfb-89bad294e2f7",
   "metadata": {},
   "outputs": [],
   "source": []
  },
  {
   "cell_type": "code",
   "execution_count": null,
   "id": "3d15d822-d827-4120-b382-ce5fbe8b8ecc",
   "metadata": {},
   "outputs": [],
   "source": []
  },
  {
   "cell_type": "code",
   "execution_count": null,
   "id": "41ffe27e-3aaf-4f8c-bea5-c36d310956c5",
   "metadata": {},
   "outputs": [],
   "source": []
  }
 ],
 "metadata": {
  "kernelspec": {
   "display_name": "Python 3 (ipykernel)",
   "language": "python",
   "name": "python3"
  },
  "language_info": {
   "codemirror_mode": {
    "name": "ipython",
    "version": 3
   },
   "file_extension": ".py",
   "mimetype": "text/x-python",
   "name": "python",
   "nbconvert_exporter": "python",
   "pygments_lexer": "ipython3",
   "version": "3.9.7"
  }
 },
 "nbformat": 4,
 "nbformat_minor": 5
}
