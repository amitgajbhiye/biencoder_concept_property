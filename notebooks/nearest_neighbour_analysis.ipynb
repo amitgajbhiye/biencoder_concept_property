{
 "cells": [
  {
   "cell_type": "code",
   "execution_count": null,
   "id": "165424ed-5277-40fc-b926-11f211b2b0bd",
   "metadata": {},
   "outputs": [],
   "source": [
    "import pandas as pd"
   ]
  },
  {
   "cell_type": "code",
   "execution_count": null,
   "id": "41b2aa41-88da-4d36-b70c-9ef422a48a1d",
   "metadata": {},
   "outputs": [],
   "source": [
    "!export PYTHONPATH=\"/home/amitgajbhiye/cardiff_work/siamese_concept_property\""
   ]
  },
  {
   "cell_type": "code",
   "execution_count": null,
   "id": "fd8491cb-f4cc-4309-bc1b-2c49394dbaf1",
   "metadata": {},
   "outputs": [],
   "source": [
    "from model.concept_property_model import ConceptPropertyModel"
   ]
  },
  {
   "cell_type": "code",
   "execution_count": null,
   "id": "de6eb691-6126-4f14-8e59-04673888a5d2",
   "metadata": {},
   "outputs": [],
   "source": [
    "def create_model(model_params):\n",
    "    log.info(f\"Creating a model from scratch\")\n",
    "    return ConceptPropertyModel(model_params)"
   ]
  },
  {
   "cell_type": "code",
   "execution_count": null,
   "id": "643f50f5-adca-452f-8f05-bac34e950205",
   "metadata": {},
   "outputs": [],
   "source": []
  },
  {
   "cell_type": "code",
   "execution_count": null,
   "id": "dea01f05-0eb4-4f2d-ab38-3552f503818b",
   "metadata": {},
   "outputs": [],
   "source": []
  },
  {
   "cell_type": "code",
   "execution_count": null,
   "id": "964b0156-141f-4439-a4e1-f770f00b77e7",
   "metadata": {},
   "outputs": [],
   "source": []
  },
  {
   "cell_type": "code",
   "execution_count": null,
   "id": "b993e44f-5735-466f-9a7e-8141fdf051e6",
   "metadata": {},
   "outputs": [],
   "source": []
  },
  {
   "cell_type": "code",
   "execution_count": null,
   "id": "5e67de59-109a-43bd-bf78-806b7c5aed7b",
   "metadata": {},
   "outputs": [],
   "source": []
  },
  {
   "cell_type": "code",
   "execution_count": null,
   "id": "b214c72d-d6eb-47a8-a275-7cf4aa836db5",
   "metadata": {},
   "outputs": [],
   "source": []
  }
 ],
 "metadata": {
  "kernelspec": {
   "display_name": "Python 3 (ipykernel)",
   "language": "python",
   "name": "python3"
  },
  "language_info": {
   "codemirror_mode": {
    "name": "ipython",
    "version": 3
   },
   "file_extension": ".py",
   "mimetype": "text/x-python",
   "name": "python",
   "nbconvert_exporter": "python",
   "pygments_lexer": "ipython3",
   "version": "3.9.7"
  }
 },
 "nbformat": 4,
 "nbformat_minor": 5
}
