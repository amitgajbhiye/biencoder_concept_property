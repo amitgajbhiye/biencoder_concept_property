{
 "cells": [
  {
   "cell_type": "code",
   "execution_count": null,
   "id": "6e80d71d-a3b3-4e0b-adbd-32f43b0f3501",
   "metadata": {},
   "outputs": [],
   "source": [
    "!pwd"
   ]
  },
  {
   "cell_type": "code",
   "execution_count": null,
   "id": "26ac19c0-6e0e-4b73-ab15-532258ab7644",
   "metadata": {},
   "outputs": [],
   "source": [
    "import pandas as pd"
   ]
  },
  {
   "cell_type": "code",
   "execution_count": null,
   "id": "6751f645-7c88-48fc-8d9f-00df9b3b011d",
   "metadata": {},
   "outputs": [],
   "source": [
    "MSCG_file_path = \"./../../data/ms_concept_graph/data-concept-instance-relations.txt\""
   ]
  },
  {
   "cell_type": "code",
   "execution_count": null,
   "id": "e155b7dc-d812-4061-867d-e0ab3de6d9eb",
   "metadata": {},
   "outputs": [],
   "source": [
    "data_df = pd.read_csv(MSCG_file_path, header=None, names=[\"property\", \"concept\", \"num_relation\"], sep=\"\\t\")"
   ]
  },
  {
   "cell_type": "code",
   "execution_count": null,
   "id": "17345db2-504f-47b5-bc98-74807fe5f404",
   "metadata": {},
   "outputs": [],
   "source": [
    "data_df.head()"
   ]
  },
  {
   "cell_type": "code",
   "execution_count": null,
   "id": "4b06f6d4-2717-4345-8338-cc05b60ea145",
   "metadata": {},
   "outputs": [],
   "source": [
    "data_df.sort_values('num_relation', ascending=False, inplace=True)"
   ]
  },
  {
   "cell_type": "code",
   "execution_count": null,
   "id": "34cb75bf-eafd-44da-89e9-cb8d127f98a4",
   "metadata": {},
   "outputs": [],
   "source": [
    "data_df = data_df[['concept', 'property', 'num_relation']]\n",
    "data_df.head(n=100)"
   ]
  },
  {
   "cell_type": "code",
   "execution_count": null,
   "id": "d2bc68a3-6a6d-42e2-9835-5d69c5da141e",
   "metadata": {},
   "outputs": [],
   "source": [
    "data_df[data_df[\"concept\"] == \"age\"]"
   ]
  },
  {
   "cell_type": "code",
   "execution_count": null,
   "id": "9d116d54-31fd-400b-8c63-714058d54444",
   "metadata": {},
   "outputs": [],
   "source": []
  },
  {
   "cell_type": "code",
   "execution_count": null,
   "id": "101ff6dd-f8c2-4591-ba96-90c2684e098c",
   "metadata": {},
   "outputs": [],
   "source": []
  },
  {
   "cell_type": "code",
   "execution_count": null,
   "id": "90e0f418-1dfd-4f35-942d-2df45217d435",
   "metadata": {},
   "outputs": [],
   "source": []
  },
  {
   "cell_type": "code",
   "execution_count": null,
   "id": "a55433bd-8d49-4867-b3ca-9cc1ebffd85b",
   "metadata": {},
   "outputs": [],
   "source": []
  },
  {
   "cell_type": "code",
   "execution_count": null,
   "id": "252023c0-3d01-40c1-876d-c656f8f05607",
   "metadata": {},
   "outputs": [],
   "source": []
  },
  {
   "cell_type": "code",
   "execution_count": null,
   "id": "c79cadb7-f56a-4305-a9ec-91953fd365a1",
   "metadata": {},
   "outputs": [],
   "source": []
  },
  {
   "cell_type": "code",
   "execution_count": null,
   "id": "a95152b6-1f84-419f-be5e-47e13c6aa8c8",
   "metadata": {},
   "outputs": [],
   "source": []
  },
  {
   "cell_type": "code",
   "execution_count": null,
   "id": "f24aeab2-2f48-4f52-a150-91a3f666d96c",
   "metadata": {},
   "outputs": [],
   "source": []
  },
  {
   "cell_type": "code",
   "execution_count": null,
   "id": "8a99a74b-be5b-4d50-8cd4-85cf932e8c4f",
   "metadata": {},
   "outputs": [],
   "source": []
  },
  {
   "cell_type": "code",
   "execution_count": null,
   "id": "fa5dacdf-dc76-4fb1-83c8-87b199621d31",
   "metadata": {},
   "outputs": [],
   "source": []
  }
 ],
 "metadata": {
  "kernelspec": {
   "display_name": "Python 3 (ipykernel)",
   "language": "python",
   "name": "python3"
  },
  "language_info": {
   "codemirror_mode": {
    "name": "ipython",
    "version": 3
   },
   "file_extension": ".py",
   "mimetype": "text/x-python",
   "name": "python",
   "nbconvert_exporter": "python",
   "pygments_lexer": "ipython3",
   "version": "3.9.7"
  }
 },
 "nbformat": 4,
 "nbformat_minor": 5
}
